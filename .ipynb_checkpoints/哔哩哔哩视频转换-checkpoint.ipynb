{
 "cells": [
  {
   "cell_type": "code",
   "execution_count": 26,
   "id": "213ab7f4",
   "metadata": {},
   "outputs": [],
   "source": [
    "import json\n",
    "from glob import glob\n",
    "import os"
   ]
  },
  {
   "cell_type": "code",
   "execution_count": 27,
   "id": "f92be557",
   "metadata": {},
   "outputs": [],
   "source": [
    "video_list = glob(\"bilibili/*\")"
   ]
  },
  {
   "cell_type": "code",
   "execution_count": 28,
   "id": "2c81921b",
   "metadata": {},
   "outputs": [
    {
     "data": {
      "text/plain": [
       "279"
      ]
     },
     "execution_count": 28,
     "metadata": {},
     "output_type": "execute_result"
    }
   ],
   "source": [
    "len(video_list)"
   ]
  },
  {
   "cell_type": "code",
   "execution_count": 1,
   "id": "fa2d4211",
   "metadata": {},
   "outputs": [],
   "source": [
    "def process_file(video_m4s, audio_m4s, output_file):\n",
    "\n",
    "    # 使用ffmpeg调整视频大小\n",
    "    os.system(f\"ffmpeg -i {video_m4s} -i {audio_m4s} -codec copy {output_file}\")\n",
    "    \n",
    "    print(f\"转换完成: -> {output_file}\")\n",
    "    \n",
    "def process_file1(input_file, output_file):\n",
    "\n",
    "    # 使用ffmpeg调整视频大小\n",
    "    os.system(f\"ffmpeg -i {input_file} -vf scale=1920:1080 {output_file}\")\n",
    "    \n",
    "    print(f\"转换完成: {input_file} -> {output_file}\")\n",
    "\n",
    "    \n",
    "for video_path in video_list:\n",
    "    json_path = video_path + \"/entry.json\"\n",
    "    with open(json_path,'r') as f:\n",
    "        json_file = json.load(f)\n",
    "    m4s_file = glob(f'{video_path}/*/*m4s')\n",
    "    video_name = json_file[\"page_data\"]['part'].replace(\" \",\"_\")\n",
    "    page = json_file[\"page_data\"]['page']\n",
    "\n",
    "    video_m4s = m4s_file[1]\n",
    "    audio_m4s = m4s_file[0]\n",
    "    \n",
    "    output_file = \"幸福耙耳朵/\" + f\"{page}.mp4\"\n",
    "    process_file(video_m4s,audio_m4s,output_file)\n",
    "    \n",
    "    "
   ]
  },
  {
   "cell_type": "code",
   "execution_count": 39,
   "id": "048d624e",
   "metadata": {},
   "outputs": [],
   "source": [
    "for video_path in video_list:\n",
    "    json_path = video_path + \"/entry.json\"\n",
    "    with open(json_path,'r') as f:\n",
    "        json_file = json.load(f)\n",
    "    video_name = json_file[\"page_data\"]['part'].replace(\"/\",\"_\")\n",
    "    page = json_file[\"page_data\"]['page']\n",
    "\n",
    "    new_file = \"幸福耙耳朵/\" + f\"{page}_{video_name}.mp4\"\n",
    "    \n",
    "    old_file = \"幸福耙耳朵/\" + f\"{page}.mp4\"\n",
    "    os.rename(old_file,new_file)\n",
    "#     os.rename(new_file,old_file)"
   ]
  },
  {
   "cell_type": "code",
   "execution_count": null,
   "id": "aa2bcb2d",
   "metadata": {},
   "outputs": [],
   "source": []
  },
  {
   "cell_type": "code",
   "execution_count": null,
   "id": "d4738506",
   "metadata": {},
   "outputs": [],
   "source": []
  },
  {
   "cell_type": "code",
   "execution_count": null,
   "id": "5fea900b",
   "metadata": {},
   "outputs": [],
   "source": []
  },
  {
   "cell_type": "code",
   "execution_count": 2,
   "id": "7aeda373",
   "metadata": {},
   "outputs": [],
   "source": [
    "import concurrent.futures  \n",
    "import time  \n",
    "import json\n",
    "from glob import glob\n",
    "import os\n",
    "  \n",
    "    \n",
    "def bilibili_synthesis(video_path):\n",
    "    json_path = video_path + \"/entry.json\"\n",
    "    with open(json_path,'r') as f:\n",
    "        json_file = json.load(f)\n",
    "    video_name = json_file[\"page_data\"]['part']\n",
    "    page = json_file[\"page_data\"]['page']\n",
    "    video_m4s = video_path+\"/64/video.m4s\"\n",
    "    audio_m4s = video_path+\"/64/audio.m4s\"\n",
    "    output_file = \"麻辣烫：《耙耳朵的幸福生活》合集/\" + f\"{page}_{video_name}.mp4\"\n",
    "    \n",
    "    os.system(f\"ffmpeg -i {video_m4s} -i {audio_m4s} -codec copy {output_file}\")\n",
    "    print(f\"转换完成: -> {output_file}\")\n",
    "    time.sleep(2)\n",
    "\n",
    "    \n",
    "\n",
    "video_list = glob(\"bilibili/*\")\n",
    "    \n",
    "    \n",
    "# 创建一个 ThreadPoolExecutor 实例，最多同时运行 5 个线程  \n",
    "with concurrent.futures.ThreadPoolExecutor(max_workers=5) as executor:  \n",
    "    # 提交一系列任务到线程池  \n",
    "    futures = [executor.submit(bilibili_synthesis, video_path) for video_path in video_list]  \n",
    "  \n",
    "    # 等待所有任务完成  \n",
    "    concurrent.futures.wait(futures)  \n",
    "  \n",
    "    # 获取并打印每个任务的结果  \n",
    "    for future in futures:  \n",
    "        print(f\"任务结果: {future.result()}\")"
   ]
  },
  {
   "cell_type": "code",
   "execution_count": null,
   "id": "5c829664",
   "metadata": {},
   "outputs": [],
   "source": []
  },
  {
   "cell_type": "code",
   "execution_count": null,
   "id": "f88390c6",
   "metadata": {},
   "outputs": [],
   "source": [
    " \n",
    "\n",
    "# for video_path in video_list:\n",
    "#     json_path = video_path + \"/entry.json\"\n",
    "#     with open(json_path,'r') as f:\n",
    "#         json_file = json.load(f)\n",
    "#     video_name = json_file[\"page_data\"]['part'].replace(\" \",\"_\")\n",
    "#     page = json_file[\"page_data\"]['page']\n",
    "\n",
    "#     video_m4s = video_path+\"/64/video.m4s\"\n",
    "#     audio_m4s = video_path+\"/64/audio.m4s\"\n",
    "# #     output_file = \"麻辣烫：《耙耳朵的幸福生活》合集/\" + f\"{page}_{video_name}.mp4\"\n",
    "    \n",
    "#     output_file = \"麻辣烫：《耙耳朵的幸福生活》合集/\" + f\"{page}.mp4\"\n",
    "#     process_file(video_m4s,audio_m4s,output_file)\n",
    "#     time.sleep(5)\n",
    "#     process_file1(output_file, f\"{video_name}.mp4\")\n",
    "\n",
    "# for video_path in video_list:\n",
    "#     json_path = video_path + \"/entry.json\"\n",
    "#     with open(json_path,'r') as f:\n",
    "#         json_file = json.load(f)\n",
    "#     video_name = json_file[\"page_data\"]['part'].replace(\" \",\"_\")\n",
    "#     page = json_file[\"page_data\"]['page']\n",
    "#     if page != 107:\n",
    "#         continue\n",
    "#     print(\"-----------\",page)\n",
    "#     video_m4s = video_path+\"/64/video.m4s.bdl\"\n",
    "#     audio_m4s = video_path+\"/64/audio.m4s\"\n",
    "# #     output_file = \"麻辣烫：《耙耳朵的幸福生活》合集/\" + f\"{page}_{video_name}.mp4\"\n",
    "    \n",
    "#     output_file = \"麻辣烫：《耙耳朵的幸福生活》合集/\" + f\"{page}.mp4\"\n",
    "#     process_file(video_m4s,audio_m4s,output_file)\n",
    "#     break\n",
    "    "
   ]
  },
  {
   "cell_type": "code",
   "execution_count": null,
   "id": "c48bc67b",
   "metadata": {},
   "outputs": [],
   "source": []
  },
  {
   "cell_type": "code",
   "execution_count": null,
   "id": "3fb2defb",
   "metadata": {},
   "outputs": [],
   "source": []
  }
 ],
 "metadata": {
  "kernelspec": {
   "display_name": "Python 3 (ipykernel)",
   "language": "python",
   "name": "python3"
  },
  "language_info": {
   "codemirror_mode": {
    "name": "ipython",
    "version": 3
   },
   "file_extension": ".py",
   "mimetype": "text/x-python",
   "name": "python",
   "nbconvert_exporter": "python",
   "pygments_lexer": "ipython3",
   "version": "3.11.4"
  }
 },
 "nbformat": 4,
 "nbformat_minor": 5
}
